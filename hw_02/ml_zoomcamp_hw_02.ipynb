{
 "cells": [
  {
   "cell_type": "code",
   "execution_count": 1,
   "id": "78748436",
   "metadata": {},
   "outputs": [],
   "source": [
    "import pandas as pd\n",
    "import numpy as np"
   ]
  },
  {
   "cell_type": "markdown",
   "id": "7f317e2c",
   "metadata": {},
   "source": [
    "The goal of this homework is to create a regression model for predicting housing prices (column `'median_house_value'`)."
   ]
  },
  {
   "cell_type": "markdown",
   "id": "181a78a3",
   "metadata": {},
   "source": [
    "### EDA\n",
    "\n",
    "* Load the data.\n",
    "* Look at the `median_house_value` variable. Does it have a long tail?"
   ]
  },
  {
   "cell_type": "code",
   "execution_count": 2,
   "id": "05be5451",
   "metadata": {},
   "outputs": [
    {
     "data": {
      "text/html": [
       "<div>\n",
       "<style scoped>\n",
       "    .dataframe tbody tr th:only-of-type {\n",
       "        vertical-align: middle;\n",
       "    }\n",
       "\n",
       "    .dataframe tbody tr th {\n",
       "        vertical-align: top;\n",
       "    }\n",
       "\n",
       "    .dataframe thead th {\n",
       "        text-align: right;\n",
       "    }\n",
       "</style>\n",
       "<table border=\"1\" class=\"dataframe\">\n",
       "  <thead>\n",
       "    <tr style=\"text-align: right;\">\n",
       "      <th></th>\n",
       "      <th>longitude</th>\n",
       "      <th>latitude</th>\n",
       "      <th>housing_median_age</th>\n",
       "      <th>total_rooms</th>\n",
       "      <th>total_bedrooms</th>\n",
       "      <th>population</th>\n",
       "      <th>households</th>\n",
       "      <th>median_income</th>\n",
       "      <th>median_house_value</th>\n",
       "      <th>ocean_proximity</th>\n",
       "    </tr>\n",
       "  </thead>\n",
       "  <tbody>\n",
       "    <tr>\n",
       "      <th>0</th>\n",
       "      <td>-122.23</td>\n",
       "      <td>37.88</td>\n",
       "      <td>41.0</td>\n",
       "      <td>880.0</td>\n",
       "      <td>129.0</td>\n",
       "      <td>322.0</td>\n",
       "      <td>126.0</td>\n",
       "      <td>8.3252</td>\n",
       "      <td>452600.0</td>\n",
       "      <td>NEAR BAY</td>\n",
       "    </tr>\n",
       "    <tr>\n",
       "      <th>1</th>\n",
       "      <td>-122.22</td>\n",
       "      <td>37.86</td>\n",
       "      <td>21.0</td>\n",
       "      <td>7099.0</td>\n",
       "      <td>1106.0</td>\n",
       "      <td>2401.0</td>\n",
       "      <td>1138.0</td>\n",
       "      <td>8.3014</td>\n",
       "      <td>358500.0</td>\n",
       "      <td>NEAR BAY</td>\n",
       "    </tr>\n",
       "    <tr>\n",
       "      <th>2</th>\n",
       "      <td>-122.24</td>\n",
       "      <td>37.85</td>\n",
       "      <td>52.0</td>\n",
       "      <td>1467.0</td>\n",
       "      <td>190.0</td>\n",
       "      <td>496.0</td>\n",
       "      <td>177.0</td>\n",
       "      <td>7.2574</td>\n",
       "      <td>352100.0</td>\n",
       "      <td>NEAR BAY</td>\n",
       "    </tr>\n",
       "    <tr>\n",
       "      <th>3</th>\n",
       "      <td>-122.25</td>\n",
       "      <td>37.85</td>\n",
       "      <td>52.0</td>\n",
       "      <td>1274.0</td>\n",
       "      <td>235.0</td>\n",
       "      <td>558.0</td>\n",
       "      <td>219.0</td>\n",
       "      <td>5.6431</td>\n",
       "      <td>341300.0</td>\n",
       "      <td>NEAR BAY</td>\n",
       "    </tr>\n",
       "    <tr>\n",
       "      <th>4</th>\n",
       "      <td>-122.25</td>\n",
       "      <td>37.85</td>\n",
       "      <td>52.0</td>\n",
       "      <td>1627.0</td>\n",
       "      <td>280.0</td>\n",
       "      <td>565.0</td>\n",
       "      <td>259.0</td>\n",
       "      <td>3.8462</td>\n",
       "      <td>342200.0</td>\n",
       "      <td>NEAR BAY</td>\n",
       "    </tr>\n",
       "  </tbody>\n",
       "</table>\n",
       "</div>"
      ],
      "text/plain": [
       "   longitude  latitude  housing_median_age  total_rooms  total_bedrooms  \\\n",
       "0    -122.23     37.88                41.0        880.0           129.0   \n",
       "1    -122.22     37.86                21.0       7099.0          1106.0   \n",
       "2    -122.24     37.85                52.0       1467.0           190.0   \n",
       "3    -122.25     37.85                52.0       1274.0           235.0   \n",
       "4    -122.25     37.85                52.0       1627.0           280.0   \n",
       "\n",
       "   population  households  median_income  median_house_value ocean_proximity  \n",
       "0       322.0       126.0         8.3252            452600.0        NEAR BAY  \n",
       "1      2401.0      1138.0         8.3014            358500.0        NEAR BAY  \n",
       "2       496.0       177.0         7.2574            352100.0        NEAR BAY  \n",
       "3       558.0       219.0         5.6431            341300.0        NEAR BAY  \n",
       "4       565.0       259.0         3.8462            342200.0        NEAR BAY  "
      ]
     },
     "execution_count": 2,
     "metadata": {},
     "output_type": "execute_result"
    }
   ],
   "source": [
    "df = pd.read_csv('housing.csv')\n",
    "df.head()"
   ]
  },
  {
   "cell_type": "code",
   "execution_count": 3,
   "id": "dcf2f35c",
   "metadata": {},
   "outputs": [
    {
     "data": {
      "text/plain": [
       "<AxesSubplot:>"
      ]
     },
     "execution_count": 3,
     "metadata": {},
     "output_type": "execute_result"
    },
    {
     "data": {
      "image/png": "[encoded data removed]",
      "text/plain": [
       "<Figure size 432x288 with 1 Axes>"
      ]
     },
     "metadata": {
      "needs_background": "light"
     },
     "output_type": "display_data"
    }
   ],
   "source": [
    "df['median_house_value'].hist()"
   ]
  },
  {
   "cell_type": "code",
   "execution_count": 4,
   "id": "c36d1173",
   "metadata": {},
   "outputs": [],
   "source": [
    "df = df[[\n",
    "    'latitude', 'longitude', 'housing_median_age', \n",
    "    'total_rooms', 'total_bedrooms', 'population', \n",
    "    'households', 'median_income', 'median_house_value'\n",
    "]]"
   ]
  },
  {
   "cell_type": "markdown",
   "id": "1b7b54fa",
   "metadata": {},
   "source": [
    "### Question 1\n",
    "\n",
    "Find a feature with missing values. How many missing values does it have?\n",
    "- 207\n",
    "- 307\n",
    "- 408\n",
    "- 508"
   ]
  },
  {
   "cell_type": "code",
   "execution_count": 5,
   "id": "d15127ea",
   "metadata": {},
   "outputs": [
    {
     "data": {
      "text/plain": [
       "latitude                0\n",
       "longitude               0\n",
       "housing_median_age      0\n",
       "total_rooms             0\n",
       "total_bedrooms        207\n",
       "population              0\n",
       "households              0\n",
       "median_income           0\n",
       "median_house_value      0\n",
       "dtype: int64"
      ]
     },
     "execution_count": 5,
     "metadata": {},
     "output_type": "execute_result"
    }
   ],
   "source": [
    "df.isna().sum()"
   ]
  },
  {
   "cell_type": "markdown",
   "id": "941b12be",
   "metadata": {},
   "source": [
    "### Question 2\n",
    "\n",
    "What's the median (50% percentile) for variable 'population'?\n",
    "- 1133\n",
    "- 1122\n",
    "- 1166\n",
    "- 1188"
   ]
  },
  {
   "cell_type": "code",
   "execution_count": 6,
   "id": "1f6875b8",
   "metadata": {},
   "outputs": [
    {
     "data": {
      "text/plain": [
       "1166.0"
      ]
     },
     "execution_count": 6,
     "metadata": {},
     "output_type": "execute_result"
    }
   ],
   "source": [
    "df['population'].median()"
   ]
  },
  {
   "cell_type": "markdown",
   "id": "a37ab065",
   "metadata": {},
   "source": [
    "### Split the data\n",
    "\n",
    "* Shuffle the initial dataset, use seed `42`.\n",
    "* Split your data in train/val/test sets, with 60%/20%/20% distribution.\n",
    "* Make sure that the target value ('median_house_value') is not in your dataframe.\n",
    "* Apply the log transformation to the median_house_value variable using the `np.log1p()` function."
   ]
  },
  {
   "cell_type": "code",
   "execution_count": 7,
   "id": "52c3d7a3",
   "metadata": {},
   "outputs": [],
   "source": [
    "df = df.sample(frac=1.0, replace=False, random_state=42).reset_index()"
   ]
  },
  {
   "cell_type": "code",
   "execution_count": 8,
   "id": "af7278be",
   "metadata": {},
   "outputs": [],
   "source": [
    "n = len(df)\n",
    "\n",
    "n_val = int(0.2 * n)\n",
    "n_test = int(0.2 * n)\n",
    "n_train = n - (n_val + n_test)"
   ]
  },
  {
   "cell_type": "code",
   "execution_count": 9,
   "id": "7c606fbc",
   "metadata": {},
   "outputs": [],
   "source": [
    "df_train = df.iloc[:n_train].copy()\n",
    "df_val = df.iloc[n_train:n_train+n_val].copy()\n",
    "df_test = df.iloc[n_train+n_val:].copy()"
   ]
  },
  {
   "cell_type": "code",
   "execution_count": 10,
   "id": "7b2c8d74",
   "metadata": {},
   "outputs": [],
   "source": [
    "y_train = np.log1p(df_train['median_house_value'].values)\n",
    "y_val = np.log1p(df_val['median_house_value'].values)\n",
    "y_test = np.log1p(df_test['median_house_value'].values)\n",
    "\n",
    "del df_train['median_house_value']\n",
    "del df_val['median_house_value']\n",
    "del df_test['median_house_value']"
   ]
  },
  {
   "cell_type": "markdown",
   "id": "1a0fdcc7",
   "metadata": {},
   "source": [
    "### Question 3\n",
    "\n",
    "* We need to deal with missing values for the column from Q1.\n",
    "* We have two options: fill it with 0 or with the mean of this variable.\n",
    "* Try both options. For each, train a linear regression model without regularization using the code from the lessons.\n",
    "* For computing the mean, use the training only!\n",
    "* Use the validation dataset to evaluate the models and compare the RMSE of each option.\n",
    "* Round the RMSE scores to 2 decimal digits using `round(score, 2)`\n",
    "* Which option gives better RMSE?\n",
    "\n",
    "Options:\n",
    "- With 0\n",
    "- With mean\n",
    "- Both are equally good"
   ]
  },
  {
   "cell_type": "code",
   "execution_count": 11,
   "id": "c8ab86f5",
   "metadata": {},
   "outputs": [],
   "source": [
    "def train_linear_regression(X, y):\n",
    "    \n",
    "    ones = np.ones(X.shape[0])\n",
    "    X = np.column_stack([ones, X])\n",
    "\n",
    "    XTX = X.T.dot(X)\n",
    "    XTX_inv = np.linalg.inv(XTX)\n",
    "    w = XTX_inv.dot(X.T).dot(y)\n",
    "    \n",
    "    return w[0], w[1:]"
   ]
  },
  {
   "cell_type": "code",
   "execution_count": 12,
   "id": "22480e3b",
   "metadata": {},
   "outputs": [],
   "source": [
    "def prepare_X(df, value):\n",
    "    \n",
    "    df_num = df.copy()\n",
    "    df_num = df_num.fillna(value)\n",
    "    X = df_num.values\n",
    "    \n",
    "    return X"
   ]
  },
  {
   "cell_type": "code",
   "execution_count": 13,
   "id": "588a3318",
   "metadata": {},
   "outputs": [],
   "source": [
    "def rmse(y, y_pred):\n",
    "    \n",
    "    error = y_pred - y\n",
    "    mse = (error ** 2).mean()\n",
    "    \n",
    "    return np.sqrt(mse)"
   ]
  },
  {
   "cell_type": "code",
   "execution_count": 14,
   "id": "dde5a9ec",
   "metadata": {},
   "outputs": [
    {
     "name": "stdout",
     "output_type": "stream",
     "text": [
      "0 | train RMSE: 0.3411\n",
      "0 | val RMSE: 0.3292\n",
      "1413.29 | train RMSE: 0.3412\n",
      "1413.29 | val RMSE: 0.3296\n"
     ]
    }
   ],
   "source": [
    "for value in [0, df_train['population'].mean()]:\n",
    "    \n",
    "    df_train_tmp = prepare_X(df=df_train, value=value)\n",
    "    df_val_tmp = prepare_X(df=df_val, value=value)\n",
    "    \n",
    "    w_0, w = train_linear_regression(df_train_tmp, y_train)\n",
    "    \n",
    "    y_train_pred = w_0 + df_train_tmp.dot(w)\n",
    "    y_val_pred = w_0 + df_val_tmp.dot(w)\n",
    "    \n",
    "    print(f'{round(value, 2)} | train RMSE: {round(rmse(y_train, y_train_pred), 4)}')\n",
    "    print(f'{round(value, 2)} | val RMSE: {round(rmse(y_val, y_val_pred), 4)}')"
   ]
  },
  {
   "cell_type": "markdown",
   "id": "ddce4141",
   "metadata": {},
   "source": [
    "### Question 4\n",
    "\n",
    "* Now let's train a regularized linear regression.\n",
    "* For this question, fill the NAs with 0. \n",
    "* Try different values of `r` from this list: `[0, 0.000001, 0.0001, 0.001, 0.01, 0.1, 1, 5, 10]`.\n",
    "* Use RMSE to evaluate the model on the validation dataset.\n",
    "* Round the RMSE scores to 2 decimal digits.\n",
    "* Which `r` gives the best RMSE?\n",
    "\n",
    "If there are multiple options, select the smallest `r`.\n",
    "\n",
    "Options:\n",
    "- 0\n",
    "- 0.000001\n",
    "- 0.001\n",
    "- 0.0001"
   ]
  },
  {
   "cell_type": "code",
   "execution_count": 15,
   "id": "5fb80149",
   "metadata": {},
   "outputs": [],
   "source": [
    "def train_linear_regression_reg(X, y, r=0.0):\n",
    "    \n",
    "    ones = np.ones(X.shape[0])\n",
    "    X = np.column_stack([ones, X])\n",
    "\n",
    "    XTX = X.T.dot(X)\n",
    "    reg = r * np.eye(XTX.shape[0])\n",
    "    XTX = XTX + reg\n",
    "\n",
    "    XTX_inv = np.linalg.inv(XTX)\n",
    "    w = XTX_inv.dot(X.T).dot(y)\n",
    "    \n",
    "    return w[0], w[1:]"
   ]
  },
  {
   "cell_type": "code",
   "execution_count": 16,
   "id": "afd09740",
   "metadata": {},
   "outputs": [],
   "source": [
    "df_train = prepare_X(df=df_train, value=0)\n",
    "df_val = prepare_X(df=df_val, value=0)\n",
    "df_test = prepare_X(df=df_test, value=0)"
   ]
  },
  {
   "cell_type": "code",
   "execution_count": 17,
   "id": "08c7556e",
   "metadata": {},
   "outputs": [
    {
     "name": "stdout",
     "output_type": "stream",
     "text": [
      "0 | train 0.3411\n",
      "0 | val 0.3292\n",
      "1e-06 | train 0.3411\n",
      "1e-06 | val 0.3292\n",
      "0.0001 | train 0.3411\n",
      "0.0001 | val 0.3292\n",
      "0.001 | train 0.3411\n",
      "0.001 | val 0.3292\n",
      "0.01 | train 0.3411\n",
      "0.01 | val 0.3292\n",
      "0.1 | train 0.3412\n",
      "0.1 | val 0.3293\n",
      "1 | train 0.3448\n",
      "1 | val 0.3332\n",
      "5 | train 0.3494\n",
      "5 | val 0.3383\n",
      "10 | train 0.3505\n",
      "10 | val 0.3396\n"
     ]
    }
   ],
   "source": [
    "for r in [0, 0.000001, 0.0001, 0.001, 0.01, 0.1, 1, 5, 10]:\n",
    "    \n",
    "    w_0, w = train_linear_regression_reg(df_train, y_train, r=r)\n",
    "    \n",
    "    y_train_pred = w_0 + df_train.dot(w)\n",
    "    print(f'{round(r, 6)} | train', round(rmse(y_train, y_train_pred), 4))\n",
    "\n",
    "    y_val_pred = w_0 + df_val.dot(w)\n",
    "    print(f'{round(r, 6)} | val', round(rmse(y_val, y_val_pred), 4))"
   ]
  },
  {
   "cell_type": "markdown",
   "id": "85963dc3",
   "metadata": {},
   "source": [
    "### Question 5 \n",
    "\n",
    "* We used seed 42 for splitting the data. Let's find out how selecting the seed influences our score.\n",
    "* Try different seed values: `[0, 1, 2, 3, 4, 5, 6, 7, 8, 9]`.\n",
    "* For each seed, do the train/validation/test split with 60%/20%/20% distribution.\n",
    "* Fill the missing values with 0 and train a model without regularization.\n",
    "* For each seed, evaluate the model on the validation dataset and collect the RMSE scores. \n",
    "* What's the standard deviation of all the scores? To compute the standard deviation, use `np.std`.\n",
    "* Round the result to 3 decimal digits (`round(std, 3)`)\n",
    "\n",
    "> Note: Standard deviation shows how different the values are.\n",
    "> If it's low, then all values are approximately the same.\n",
    "> If it's high, the values are different. \n",
    "> If standard deviation of scores is low, then our model is *stable*.\n",
    "\n",
    "Options:\n",
    "- 0.16\n",
    "- 0.00005\n",
    "- 0.005\n",
    "- 0.15555"
   ]
  },
  {
   "cell_type": "code",
   "execution_count": 18,
   "id": "f249df1a",
   "metadata": {},
   "outputs": [
    {
     "name": "stdout",
     "output_type": "stream",
     "text": [
      "0 | train 0.3426\n",
      "0 | val 0.3389\n",
      "1 | train 0.3433\n",
      "1 | val 0.3357\n",
      "2 | train 0.3411\n",
      "2 | val 0.3319\n",
      "3 | train 0.3422\n",
      "3 | val 0.3403\n",
      "4 | train 0.3429\n",
      "4 | val 0.3386\n",
      "5 | train 0.3416\n",
      "5 | val 0.3432\n",
      "6 | train 0.3387\n",
      "6 | val 0.3453\n",
      "7 | train 0.3397\n",
      "7 | val 0.3393\n",
      "8 | train 0.3364\n",
      "8 | val 0.3465\n",
      "9 | train 0.3406\n",
      "9 | val 0.3364\n",
      "0.004\n"
     ]
    }
   ],
   "source": [
    "rmse_scores = []\n",
    "\n",
    "for seed in [0, 1, 2, 3, 4, 5, 6, 7, 8, 9]:\n",
    "    \n",
    "    df = pd.read_csv('housing.csv')\n",
    "    \n",
    "    df = df[[\n",
    "        'latitude', 'longitude', 'housing_median_age', \n",
    "        'total_rooms', 'total_bedrooms', 'population', \n",
    "        'households', 'median_income', 'median_house_value'\n",
    "    ]]\n",
    "    \n",
    "    df = df.sample(frac=1.0, replace=False, random_state=seed).reset_index()\n",
    "    \n",
    "    n = len(df)\n",
    "\n",
    "    n_val = int(0.2 * n)\n",
    "    n_test = int(0.2 * n)\n",
    "    n_train = n - (n_val + n_test)\n",
    "    \n",
    "    df_train = df.iloc[:n_train].copy()\n",
    "    df_val = df.iloc[n_train:n_train+n_val].copy()\n",
    "    df_test = df.iloc[n_train+n_val:].copy()\n",
    "    \n",
    "    y_train = np.log1p(df_train['median_house_value'].values)\n",
    "    y_val = np.log1p(df_val['median_house_value'].values)\n",
    "    y_test = np.log1p(df_test['median_house_value'].values)\n",
    "\n",
    "    del df_train['median_house_value']\n",
    "    del df_val['median_house_value']\n",
    "    del df_test['median_house_value']\n",
    "    \n",
    "    df_train = prepare_X(df=df_train, value=0)\n",
    "    df_val = prepare_X(df=df_val, value=0)\n",
    "    df_test = prepare_X(df=df_test, value=0)\n",
    "    \n",
    "    w_0, w = train_linear_regression(df_train, y_train)\n",
    "    \n",
    "    y_train_pred = w_0 + df_train.dot(w)\n",
    "    print(f'{seed} | train', round(rmse(y_train, y_train_pred), 4))\n",
    "\n",
    "    y_val_pred = w_0 + df_val.dot(w)\n",
    "    print(f'{seed} | val', round(rmse(y_val, y_val_pred), 4))\n",
    "    \n",
    "    rmse_scores.append(rmse(y_val, y_val_pred))\n",
    "\n",
    "print(round(np.std(rmse_scores), 3))"
   ]
  },
  {
   "cell_type": "markdown",
   "id": "d8641b37",
   "metadata": {},
   "source": [
    "### Question 6\n",
    "\n",
    "* Split the dataset like previously, use seed 9.\n",
    "* Combine train and validation datasets.\n",
    "* Fill the missing values with 0 and train a model with `r=0.001`. \n",
    "* What's the RMSE on the test dataset?\n",
    "\n",
    "Options:\n",
    "- 0.35\n",
    "- 0.135\n",
    "- 0.450\n",
    "- 0.245"
   ]
  },
  {
   "cell_type": "code",
   "execution_count": 19,
   "id": "f09f995a",
   "metadata": {},
   "outputs": [
    {
     "name": "stdout",
     "output_type": "stream",
     "text": [
      "9 | train 0.3406\n",
      "9 | val 0.3364\n",
      "9 | test 0.3457\n"
     ]
    }
   ],
   "source": [
    "seed = 9\n",
    "    \n",
    "df = pd.read_csv('housing.csv')\n",
    "\n",
    "df = df[[\n",
    "    'latitude', 'longitude', 'housing_median_age', \n",
    "    'total_rooms', 'total_bedrooms', 'population', \n",
    "    'households', 'median_income', 'median_house_value'\n",
    "]]\n",
    "\n",
    "df = df.sample(frac=1.0, replace=False, random_state=seed).reset_index()\n",
    "\n",
    "n = len(df)\n",
    "\n",
    "n_val = int(0.2 * n)\n",
    "n_test = int(0.2 * n)\n",
    "n_train = n - (n_val + n_test)\n",
    "\n",
    "df_train = df.iloc[:n_train].copy()\n",
    "df_val = df.iloc[n_train:n_train+n_val].copy()\n",
    "df_test = df.iloc[n_train+n_val:].copy()\n",
    "\n",
    "y_train = np.log1p(df_train['median_house_value'].values)\n",
    "y_val = np.log1p(df_val['median_house_value'].values)\n",
    "y_test = np.log1p(df_test['median_house_value'].values)\n",
    "\n",
    "del df_train['median_house_value']\n",
    "del df_val['median_house_value']\n",
    "del df_test['median_house_value']\n",
    "\n",
    "df_train = prepare_X(df=df_train, value=0)\n",
    "df_val = prepare_X(df=df_val, value=0)\n",
    "df_test = prepare_X(df=df_test, value=0)\n",
    "\n",
    "w_0, w = train_linear_regression_reg(df_train, y_train, r=0.001)\n",
    "\n",
    "y_train_pred = w_0 + df_train.dot(w)\n",
    "print(f'{seed} | train', round(rmse(y_train, y_train_pred), 4))\n",
    "\n",
    "y_val_pred = w_0 + df_val.dot(w)\n",
    "print(f'{seed} | val', round(rmse(y_val, y_val_pred), 4))\n",
    "\n",
    "y_test_pred = w_0 + df_test.dot(w)\n",
    "print(f'{seed} | test', round(rmse(y_test, y_test_pred), 4))"
   ]
  },
  {
   "cell_type": "code",
   "execution_count": null,
   "id": "d22143de",
   "metadata": {},
   "outputs": [],
   "source": []
  }
 ],
 "metadata": {
  "kernelspec": {
   "display_name": "Python 3 (ipykernel)",
   "language": "python",
   "name": "python3"
  },
  "language_info": {
   "codemirror_mode": {
    "name": "ipython",
    "version": 3
   },
   "file_extension": ".py",
   "mimetype": "text/x-python",
   "name": "python",
   "nbconvert_exporter": "python",
   "pygments_lexer": "ipython3",
   "version": "3.9.12"
  }
 },
 "nbformat": 4,
 "nbformat_minor": 5
}
